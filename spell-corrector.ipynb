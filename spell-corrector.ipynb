{
 "cells": [
  {
   "cell_type": "code",
   "execution_count": 1,
   "metadata": {},
   "outputs": [],
   "source": [
    "import re\n",
    "from collections import Counter"
   ]
  },
  {
   "cell_type": "code",
   "execution_count": 2,
   "metadata": {},
   "outputs": [],
   "source": [
    "# function to tokenise words\n",
    "def words(document):\n",
    "    \"Convert text to lower case and tokenise the document\"\n",
    "    return re.findall(r'\\w+', document.lower())"
   ]
  },
  {
   "cell_type": "code",
   "execution_count": 3,
   "metadata": {},
   "outputs": [],
   "source": [
    "# create a frequency table of all the words of the document\n",
    "all_words = Counter(words(open('big.txt').read()))"
   ]
  },
  {
   "cell_type": "code",
   "execution_count": 4,
   "metadata": {},
   "outputs": [
    {
     "data": {
      "text/plain": [
       "135"
      ]
     },
     "execution_count": 4,
     "metadata": {},
     "output_type": "execute_result"
    }
   ],
   "source": [
    "# check frequency of a random word, say, 'chair'\n",
    "all_words['chair']"
   ]
  },
  {
   "cell_type": "code",
   "execution_count": 5,
   "metadata": {},
   "outputs": [
    {
     "data": {
      "text/plain": [
       "[('the', 79809),\n",
       " ('of', 40024),\n",
       " ('and', 38312),\n",
       " ('to', 28765),\n",
       " ('in', 22023),\n",
       " ('a', 21124),\n",
       " ('that', 12512),\n",
       " ('he', 12401),\n",
       " ('was', 11410),\n",
       " ('it', 10681)]"
      ]
     },
     "execution_count": 5,
     "metadata": {},
     "output_type": "execute_result"
    }
   ],
   "source": [
    "# look at top 10 frequent words\n",
    "all_words.most_common(10)"
   ]
  },
  {
   "cell_type": "code",
   "execution_count": 6,
   "metadata": {},
   "outputs": [],
   "source": [
    "def edits_one(word):\n",
    "    \"Create all edits that are one edit away from `word`.\"\n",
    "    alphabets    = 'abcdefghijklmnopqrstuvwxyz'\n",
    "    splits     = [(word[:i], word[i:])                   for i in range(len(word) + 1)]\n",
    "    deletes    = [left + right[1:]                       for left, right in splits if right]\n",
    "    inserts    = [left + c + right                       for left, right in splits for c in alphabets]\n",
    "    replaces   = [left + c + right[1:]                   for left, right in splits if right for c in alphabets]\n",
    "    transposes = [left + right[1] + right[0] + right[2:] for left, right in splits if len(right)>1]\n",
    "    return set(deletes + inserts + replaces + transposes)"
   ]
  },
  {
   "cell_type": "code",
   "execution_count": 7,
   "metadata": {},
   "outputs": [
    {
     "data": {
      "text/plain": [
       "442"
      ]
     },
     "execution_count": 7,
     "metadata": {},
     "output_type": "execute_result"
    }
   ],
   "source": [
    "len(edits_one(\"emfasize\"))"
   ]
  },
  {
   "cell_type": "code",
   "execution_count": 8,
   "metadata": {},
   "outputs": [],
   "source": [
    "def edits_two(word):\n",
    "    \"Create all edits that are two edits away from `word`.\"\n",
    "    return (e2 for e1 in edits_one(word) for e2 in edits_one(e1))"
   ]
  },
  {
   "cell_type": "code",
   "execution_count": null,
   "metadata": {},
   "outputs": [],
   "source": []
  },
  {
   "cell_type": "code",
   "execution_count": 9,
   "metadata": {},
   "outputs": [],
   "source": [
    "def known(words):\n",
    "    \"The subset of `words` that appear in the `all_words`.\"\n",
    "    return set(word for word in words if word in all_words)"
   ]
  },
  {
   "cell_type": "code",
   "execution_count": 10,
   "metadata": {},
   "outputs": [],
   "source": [
    "def possible_corrections(word):\n",
    "    \"Generate possible spelling corrections for word.\"\n",
    "    return (known([word]) or known(edits_one(word)) or known(edits_two(word)) or [word])"
   ]
  },
  {
   "cell_type": "code",
   "execution_count": 11,
   "metadata": {},
   "outputs": [
    {
     "data": {
      "text/plain": [
       "{'emphasize'}"
      ]
     },
     "execution_count": 11,
     "metadata": {},
     "output_type": "execute_result"
    }
   ],
   "source": [
    "possible_corrections('emfasize')"
   ]
  },
  {
   "cell_type": "code",
   "execution_count": 19,
   "metadata": {},
   "outputs": [
    {
     "data": {
      "text/plain": [
       "1115585"
      ]
     },
     "execution_count": 19,
     "metadata": {},
     "output_type": "execute_result"
    }
   ],
   "source": [
    "sum(all_words.values())"
   ]
  },
  {
   "cell_type": "code",
   "execution_count": 12,
   "metadata": {},
   "outputs": [],
   "source": [
    "def prob(word, N=sum(all_words.values())): \n",
    "    \"Probability of `word`: Number of appearances of 'word' / total number of tokens\"\n",
    "    return all_words[word] / N"
   ]
  },
  {
   "cell_type": "code",
   "execution_count": 13,
   "metadata": {},
   "outputs": [
    {
     "name": "stdout",
     "output_type": "stream",
     "text": [
      "336\n",
      "{'monnky', 'monnby', 'monnvey', 'motney', 'monneky', 'monqney', 'monneoy', 'morney', 'monngy', 'monneyb', 'meonney', 'mongney', 'monqey', 'rmonney', 'moniney', 'mnoney', 'monneyy', 'monzney', 'vmonney', 'monfey', 'monnqey', 'fmonney', 'monnxey', 'msnney', 'monnaey', 'monntey', 'monneh', 'monngey', 'monnejy', 'monhey', 'mownney', 'monnesy', 'montey', 'monned', 'monneny', 'monnoey', 'mhonney', 'conney', 'mosney', 'monnefy', 'moznney', 'moxney', 'monneye', 'monneym', 'mognney', 'msonney', 'motnney', 'monxey', 'mrnney', 'modney', 'mtnney', 'monnpey', 'monneyi', 'mkonney', 'monnwey', 'maonney', 'monneo', 'monxney', 'mopnney', 'moinney', 'mocney', 'monneyc', 'menney', 'momney', 'monzey', 'hmonney', 'nonney', 'gonney', 'bmonney', 'cmonney', 'monneyd', 'mionney', 'moynney', 'xmonney', 'amonney', 'momnney', 'imonney', 'mgonney', 'monnney', 'tmonney', 'eonney', 'gmonney', 'monnfy', 'moqney', 'ponney', 'mlonney', 'monnee', 'monkney', 'monneys', 'monlney', 'monneyg', 'monneyj', 'moyney', 'moeney', 'monmey', 'mdnney', 'monfney', 'monnexy', 'mconney', 'manney', 'monnew', 'moonney', 'moncney', 'monneey', 'monneya', 'mlnney', 'monniey', 'monnemy', 'minney', 'monnen', 'monmney', 'monncey', 'monneyf', 'monny', 'monyney', 'monnay', 'monnel', 'moneney', 'omonney', 'mmnney', 'sonney', 'moncey', 'monnhy', 'mxonney', 'monneyq', 'mosnney', 'mofney', 'mokney', 'monneyh', 'monnvy', 'monhney', 'mobney', 'mbnney', 'monnef', 'pmonney', 'monneqy', 'monnecy', 'monnegy', 'mknney', 'monbey', 'montney', 'yonney', 'mgnney', 'jmonney', 'monoey', 'monnmy', 'mononey', 'movnney', 'monnqy', 'monuney', 'mozney', 'umonney', 'monjney', 'mouney', 'monnry', 'konney', 'onney', 'moenney', 'moneey', 'monneay', 'monneyv', 'monnevy', 'monnez', 'myonney', 'wmonney', 'mondney', 'monsney', 'mponney', 'monnea', 'mronney', 'monniy', 'monnyey', 'monneyl', 'monnehy', 'monpney', 'monrney', 'monnley', 'monneyr', 'monbney', 'monneyp', 'monnny', 'monnepy', 'monnfey', 'molnney', 'tonney', 'mohnney', 'omnney', 'monneyz', 'monrey', 'mqonney', 'oonney', 'mondey', 'jonney', 'wonney', 'mdonney', 'monnwy', 'monnyy', 'mjnney', 'moniey', 'monnety', 'mocnney', 'mwonney', 'monncy', 'monnep', 'monneyo', 'monnei', 'monuey', 'mnnney', 'monnhey', 'nmonney', 'monnsy', 'mtonney', 'zonney', 'aonney', 'fonney', 'monpey', 'monnery', 'moiney', 'monnpy', 'mqnney', 'monnmey', 'monnes', 'monneb', 'monwey', 'mpnney', 'mopney', 'monnedy', 'kmonney', 'monner', 'zmonney', 'monaney', 'mfonney', 'monndey', 'mynney', 'monwney', 'moqnney', 'monnuey', 'moneny', 'qmonney', 'mvonney', 'monneu', 'monnye', 'mzonney', 'monnek', 'muonney', 'mhnney', 'dmonney', 'mmonney', 'monnkey', 'monneq', 'monne', 'mxnney', 'smonney', 'donney', 'monnet', 'monneyx', 'monney', 'mornney', 'monnoy', 'mounney', 'monley', 'monneiy', 'monneyw', 'monnzy', 'mojnney', 'monnly', 'monnem', 'moanney', 'mogney', 'vonney', 'monnec', 'monneyn', 'mooney', 'lmonney', 'mnney', 'monneyt', 'monneby', 'lonney', 'mwnney', 'mjonney', 'monnsey', 'mofnney', 'monnjy', 'monnej', 'bonney', 'emonney', 'moaney', 'mbonney', 'monnbey', 'mowney', 'monvey', 'monsey', 'monnjey', 'monyey', 'molney', 'honney', 'mobnney', 'mfnney', 'monneg', 'monnex', 'mongey', 'mohney', 'ymonney', 'mnonney', 'monaey', 'monnrey', 'moknney', 'modnney', 'qonney', 'ronney', 'moxnney', 'monneyu', 'monnuy', 'mvnney', 'monnezy', 'xonney', 'monndy', 'mcnney', 'monneyk', 'munney', 'movney', 'money', 'monvney', 'mojney', 'mznney', 'monnzey', 'monnewy', 'monnxy', 'ionney', 'uonney', 'monneuy', 'monnty', 'monnev', 'monjey', 'monnely', 'monkey'}\n"
     ]
    }
   ],
   "source": [
    "print(len(set(edits_one(\"monney\"))))\n",
    "print(edits_one(\"monney\"))"
   ]
  },
  {
   "cell_type": "code",
   "execution_count": 14,
   "metadata": {},
   "outputs": [
    {
     "name": "stdout",
     "output_type": "stream",
     "text": [
      "{'money', 'monkey'}\n"
     ]
    }
   ],
   "source": [
    "print(known(edits_one(\"monney\")))"
   ]
  },
  {
   "cell_type": "code",
   "execution_count": 15,
   "metadata": {},
   "outputs": [
    {
     "name": "stdout",
     "output_type": "stream",
     "text": [
      "51013\n",
      "{'money', 'monkey'}\n"
     ]
    }
   ],
   "source": [
    "# Let's look at words that are two edits away\n",
    "print(len(set(edits_two(\"monney\"))))\n",
    "print(known(edits_one(\"monney\")))"
   ]
  },
  {
   "cell_type": "code",
   "execution_count": 16,
   "metadata": {},
   "outputs": [
    {
     "name": "stdout",
     "output_type": "stream",
     "text": [
      "{'money', 'monkey'}\n"
     ]
    }
   ],
   "source": [
    "# Let's look at possible corrections of a word\n",
    "print(possible_corrections(\"monney\"))"
   ]
  },
  {
   "cell_type": "code",
   "execution_count": 17,
   "metadata": {},
   "outputs": [
    {
     "name": "stdout",
     "output_type": "stream",
     "text": [
      "0.0002922233626303688\n",
      "5.378344097491451e-06\n"
     ]
    }
   ],
   "source": [
    "# Let's look at probability of a word\n",
    "print(prob(\"money\"))\n",
    "print(prob(\"monkey\"))"
   ]
  },
  {
   "cell_type": "code",
   "execution_count": 20,
   "metadata": {},
   "outputs": [],
   "source": [
    "def spell_check(word):\n",
    "    \"Print the most probable spelling correction for `word` out of all the `possible_corrections`\"\n",
    "    correct_word = max(possible_corrections(word), key=prob)\n",
    "    if correct_word != word:\n",
    "        return \"Did you mean \" + correct_word + \"?\"\n",
    "    else:\n",
    "        return \"Correct spelling.\""
   ]
  },
  {
   "cell_type": "code",
   "execution_count": 21,
   "metadata": {},
   "outputs": [
    {
     "name": "stdout",
     "output_type": "stream",
     "text": [
      "Did you mean money?\n"
     ]
    }
   ],
   "source": [
    "# test spell check\n",
    "print(spell_check(\"monney\"))"
   ]
  },
  {
   "cell_type": "code",
   "execution_count": null,
   "metadata": {},
   "outputs": [],
   "source": []
  }
 ],
 "metadata": {
  "kernelspec": {
   "display_name": "Python 3 (ipykernel)",
   "language": "python",
   "name": "python3"
  },
  "language_info": {
   "codemirror_mode": {
    "name": "ipython",
    "version": 3
   },
   "file_extension": ".py",
   "mimetype": "text/x-python",
   "name": "python",
   "nbconvert_exporter": "python",
   "pygments_lexer": "ipython3",
   "version": "3.9.7"
  }
 },
 "nbformat": 4,
 "nbformat_minor": 2
}
