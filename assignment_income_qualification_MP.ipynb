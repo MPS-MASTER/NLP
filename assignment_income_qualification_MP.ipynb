{
 "cells": [
  {
   "cell_type": "markdown",
   "metadata": {},
   "source": [
    "## Important Things to Notice before we start our project"
   ]
  },
  {
   "cell_type": "markdown",
   "metadata": {},
   "source": [
    "#### Important column names and their description"
   ]
  },
  {
   "cell_type": "code",
   "execution_count": 111,
   "metadata": {},
   "outputs": [],
   "source": [
    "#idhogar ==> is an id which is common to all members of a single family\n",
    "#Target ==> Target class(Poverty level contains 4 class[1,2,3,4])\n",
    "#parentesco1 ==> is a family head identifier(0 means not a family head 1 means family head)\n"
   ]
  },
  {
   "cell_type": "markdown",
   "metadata": {},
   "source": [
    "## Imports"
   ]
  },
  {
   "cell_type": "code",
   "execution_count": 112,
   "metadata": {},
   "outputs": [],
   "source": [
    "import pandas as pd\n",
    "import numpy as np\n",
    "import matplotlib.pyplot as plt\n",
    "%matplotlib inline\n",
    "import seaborn as sns\n",
    "from sklearn.metrics import accuracy_score, confusion_matrix\n",
    "import random\n",
    "random.seed(10)"
   ]
  },
  {
   "cell_type": "markdown",
   "metadata": {},
   "source": [
    "## Starting the project"
   ]
  },
  {
   "cell_type": "code",
   "execution_count": 113,
   "metadata": {},
   "outputs": [],
   "source": [
    "inp_train_data = pd.read_csv(\"train.csv\")  # ------------Reading input train data\n",
    "inp_test_data = pd.read_csv(\"test.csv\")  # ------------Reading input test data"
   ]
  },
  {
   "cell_type": "code",
   "execution_count": 114,
   "metadata": {},
   "outputs": [
    {
     "data": {
      "text/plain": [
       "((9557, 143), (23856, 142))"
      ]
     },
     "execution_count": 114,
     "metadata": {},
     "output_type": "execute_result"
    }
   ],
   "source": [
    "inp_train_data.shape, inp_test_data.shape  # -------------Check shape of train and test "
   ]
  },
  {
   "cell_type": "code",
   "execution_count": 115,
   "metadata": {},
   "outputs": [
    {
     "data": {
      "text/html": [
       "<div>\n",
       "<style scoped>\n",
       "    .dataframe tbody tr th:only-of-type {\n",
       "        vertical-align: middle;\n",
       "    }\n",
       "\n",
       "    .dataframe tbody tr th {\n",
       "        vertical-align: top;\n",
       "    }\n",
       "\n",
       "    .dataframe thead th {\n",
       "        text-align: right;\n",
       "    }\n",
       "</style>\n",
       "<table border=\"1\" class=\"dataframe\">\n",
       "  <thead>\n",
       "    <tr style=\"text-align: right;\">\n",
       "      <th></th>\n",
       "      <th>Id</th>\n",
       "      <th>v2a1</th>\n",
       "      <th>hacdor</th>\n",
       "      <th>rooms</th>\n",
       "      <th>hacapo</th>\n",
       "      <th>v14a</th>\n",
       "      <th>refrig</th>\n",
       "      <th>v18q</th>\n",
       "      <th>v18q1</th>\n",
       "      <th>r4h1</th>\n",
       "      <th>...</th>\n",
       "      <th>SQBescolari</th>\n",
       "      <th>SQBage</th>\n",
       "      <th>SQBhogar_total</th>\n",
       "      <th>SQBedjefe</th>\n",
       "      <th>SQBhogar_nin</th>\n",
       "      <th>SQBovercrowding</th>\n",
       "      <th>SQBdependency</th>\n",
       "      <th>SQBmeaned</th>\n",
       "      <th>agesq</th>\n",
       "      <th>Target</th>\n",
       "    </tr>\n",
       "  </thead>\n",
       "  <tbody>\n",
       "    <tr>\n",
       "      <td>0</td>\n",
       "      <td>ID_279628684</td>\n",
       "      <td>190000.0</td>\n",
       "      <td>0</td>\n",
       "      <td>3</td>\n",
       "      <td>0</td>\n",
       "      <td>1</td>\n",
       "      <td>1</td>\n",
       "      <td>0</td>\n",
       "      <td>NaN</td>\n",
       "      <td>0</td>\n",
       "      <td>...</td>\n",
       "      <td>100</td>\n",
       "      <td>1849</td>\n",
       "      <td>1</td>\n",
       "      <td>100</td>\n",
       "      <td>0</td>\n",
       "      <td>1.000000</td>\n",
       "      <td>0.0</td>\n",
       "      <td>100.0</td>\n",
       "      <td>1849</td>\n",
       "      <td>4</td>\n",
       "    </tr>\n",
       "    <tr>\n",
       "      <td>1</td>\n",
       "      <td>ID_f29eb3ddd</td>\n",
       "      <td>135000.0</td>\n",
       "      <td>0</td>\n",
       "      <td>4</td>\n",
       "      <td>0</td>\n",
       "      <td>1</td>\n",
       "      <td>1</td>\n",
       "      <td>1</td>\n",
       "      <td>1.0</td>\n",
       "      <td>0</td>\n",
       "      <td>...</td>\n",
       "      <td>144</td>\n",
       "      <td>4489</td>\n",
       "      <td>1</td>\n",
       "      <td>144</td>\n",
       "      <td>0</td>\n",
       "      <td>1.000000</td>\n",
       "      <td>64.0</td>\n",
       "      <td>144.0</td>\n",
       "      <td>4489</td>\n",
       "      <td>4</td>\n",
       "    </tr>\n",
       "    <tr>\n",
       "      <td>2</td>\n",
       "      <td>ID_68de51c94</td>\n",
       "      <td>NaN</td>\n",
       "      <td>0</td>\n",
       "      <td>8</td>\n",
       "      <td>0</td>\n",
       "      <td>1</td>\n",
       "      <td>1</td>\n",
       "      <td>0</td>\n",
       "      <td>NaN</td>\n",
       "      <td>0</td>\n",
       "      <td>...</td>\n",
       "      <td>121</td>\n",
       "      <td>8464</td>\n",
       "      <td>1</td>\n",
       "      <td>0</td>\n",
       "      <td>0</td>\n",
       "      <td>0.250000</td>\n",
       "      <td>64.0</td>\n",
       "      <td>121.0</td>\n",
       "      <td>8464</td>\n",
       "      <td>4</td>\n",
       "    </tr>\n",
       "    <tr>\n",
       "      <td>3</td>\n",
       "      <td>ID_d671db89c</td>\n",
       "      <td>180000.0</td>\n",
       "      <td>0</td>\n",
       "      <td>5</td>\n",
       "      <td>0</td>\n",
       "      <td>1</td>\n",
       "      <td>1</td>\n",
       "      <td>1</td>\n",
       "      <td>1.0</td>\n",
       "      <td>0</td>\n",
       "      <td>...</td>\n",
       "      <td>81</td>\n",
       "      <td>289</td>\n",
       "      <td>16</td>\n",
       "      <td>121</td>\n",
       "      <td>4</td>\n",
       "      <td>1.777778</td>\n",
       "      <td>1.0</td>\n",
       "      <td>121.0</td>\n",
       "      <td>289</td>\n",
       "      <td>4</td>\n",
       "    </tr>\n",
       "    <tr>\n",
       "      <td>4</td>\n",
       "      <td>ID_d56d6f5f5</td>\n",
       "      <td>180000.0</td>\n",
       "      <td>0</td>\n",
       "      <td>5</td>\n",
       "      <td>0</td>\n",
       "      <td>1</td>\n",
       "      <td>1</td>\n",
       "      <td>1</td>\n",
       "      <td>1.0</td>\n",
       "      <td>0</td>\n",
       "      <td>...</td>\n",
       "      <td>121</td>\n",
       "      <td>1369</td>\n",
       "      <td>16</td>\n",
       "      <td>121</td>\n",
       "      <td>4</td>\n",
       "      <td>1.777778</td>\n",
       "      <td>1.0</td>\n",
       "      <td>121.0</td>\n",
       "      <td>1369</td>\n",
       "      <td>4</td>\n",
       "    </tr>\n",
       "  </tbody>\n",
       "</table>\n",
       "<p>5 rows × 143 columns</p>\n",
       "</div>"
      ],
      "text/plain": [
       "             Id      v2a1  hacdor  rooms  hacapo  v14a  refrig  v18q  v18q1  \\\n",
       "0  ID_279628684  190000.0       0      3       0     1       1     0    NaN   \n",
       "1  ID_f29eb3ddd  135000.0       0      4       0     1       1     1    1.0   \n",
       "2  ID_68de51c94       NaN       0      8       0     1       1     0    NaN   \n",
       "3  ID_d671db89c  180000.0       0      5       0     1       1     1    1.0   \n",
       "4  ID_d56d6f5f5  180000.0       0      5       0     1       1     1    1.0   \n",
       "\n",
       "   r4h1  ...  SQBescolari  SQBage  SQBhogar_total  SQBedjefe  SQBhogar_nin  \\\n",
       "0     0  ...          100    1849               1        100             0   \n",
       "1     0  ...          144    4489               1        144             0   \n",
       "2     0  ...          121    8464               1          0             0   \n",
       "3     0  ...           81     289              16        121             4   \n",
       "4     0  ...          121    1369              16        121             4   \n",
       "\n",
       "   SQBovercrowding  SQBdependency  SQBmeaned  agesq  Target  \n",
       "0         1.000000            0.0      100.0   1849       4  \n",
       "1         1.000000           64.0      144.0   4489       4  \n",
       "2         0.250000           64.0      121.0   8464       4  \n",
       "3         1.777778            1.0      121.0    289       4  \n",
       "4         1.777778            1.0      121.0   1369       4  \n",
       "\n",
       "[5 rows x 143 columns]"
      ]
     },
     "execution_count": 115,
     "metadata": {},
     "output_type": "execute_result"
    }
   ],
   "source": [
    "inp_train_data.head() # ---------------data looks"
   ]
  },
  {
   "cell_type": "markdown",
   "metadata": {},
   "source": [
    "#### Check null values per column"
   ]
  },
  {
   "cell_type": "code",
   "execution_count": 116,
   "metadata": {},
   "outputs": [
    {
     "data": {
      "text/plain": [
       "v2a1         6860\n",
       "v18q1        7342\n",
       "rez_esc      7928\n",
       "meaneduc        5\n",
       "SQBmeaned       5\n",
       "dtype: int64"
      ]
     },
     "execution_count": 116,
     "metadata": {},
     "output_type": "execute_result"
    }
   ],
   "source": [
    "null_counts =inp_train_data.isnull().sum()  # -------------------Check for null values per column at once\n",
    "null_counts[null_counts>0]"
   ]
  },
  {
   "cell_type": "markdown",
   "metadata": {},
   "source": [
    "## Target values"
   ]
  },
  {
   "cell_type": "code",
   "execution_count": 117,
   "metadata": {},
   "outputs": [
    {
     "data": {
      "text/plain": [
       "array([4, 2, 3, 1], dtype=int64)"
      ]
     },
     "execution_count": 117,
     "metadata": {},
     "output_type": "execute_result"
    }
   ],
   "source": [
    "inp_train_data.Target.unique()   # ---------------Check for unique values in Target"
   ]
  },
  {
   "cell_type": "code",
   "execution_count": 118,
   "metadata": {},
   "outputs": [],
   "source": [
    "## So there are 4 poverty level class"
   ]
  },
  {
   "cell_type": "markdown",
   "metadata": {},
   "source": [
    "## Bias check"
   ]
  },
  {
   "cell_type": "markdown",
   "metadata": {},
   "source": [
    "#### Lets draw people count output category wise"
   ]
  },
  {
   "cell_type": "code",
   "execution_count": 119,
   "metadata": {},
   "outputs": [
    {
     "data": {
      "text/plain": [
       "<matplotlib.axes._subplots.AxesSubplot at 0x200ebf4fdc8>"
      ]
     },
     "execution_count": 119,
     "metadata": {},
     "output_type": "execute_result"
    },
    {
     "data": {
      "image/png": "[encoded data removed]",
      "text/plain": [
       "<Figure size 432x288 with 1 Axes>"
      ]
     },
     "metadata": {
      "needs_background": "light"
     },
     "output_type": "display_data"
    }
   ],
   "source": [
    "\n",
    "sns.countplot(inp_train_data.Target)\n",
    "#inp_train_data.Target"
   ]
  },
  {
   "cell_type": "code",
   "execution_count": 120,
   "metadata": {},
   "outputs": [
    {
     "data": {
      "text/plain": [
       "array([   0,  755, 1597, 1209, 5996], dtype=int64)"
      ]
     },
     "execution_count": 120,
     "metadata": {},
     "output_type": "execute_result"
    }
   ],
   "source": [
    "## Lets see no of people in each class\n",
    "np.bincount(inp_train_data.Target)"
   ]
  },
  {
   "cell_type": "markdown",
   "metadata": {},
   "source": [
    "#### Data is biased\n",
    "#### Because class 4 have 62% of data\n",
    "\n",
    "#### 5996/(755+1597+1209+5996)"
   ]
  },
  {
   "cell_type": "markdown",
   "metadata": {},
   "source": [
    "## Checking wheather all members of the house have same poverty level"
   ]
  },
  {
   "cell_type": "markdown",
   "metadata": {},
   "source": [
    "#### Idhogar represents id of a family\n",
    "#### That is similar for every family member\n",
    "#### So we will check persons with same idhogar if\n",
    "#### They have same target label then ok they have same poverty level(match)\n",
    "#### Otherwise Count them as mismatch\n"
   ]
  },
  {
   "cell_type": "code",
   "execution_count": 121,
   "metadata": {},
   "outputs": [
    {
     "data": {
      "text/plain": [
       "2988"
      ]
     },
     "execution_count": 121,
     "metadata": {},
     "output_type": "execute_result"
    }
   ],
   "source": [
    "## Total Family count\n",
    "len(np.unique(inp_train_data.idhogar))  # Since idhogar is common for a family"
   ]
  },
  {
   "cell_type": "code",
   "execution_count": 122,
   "metadata": {},
   "outputs": [],
   "source": [
    "def poverty_level_check(inp_data):\n",
    "    \"\"\"\n",
    "    1. if people with same idhogar will have different poverty level then mismatch\n",
    "    2. Will store total families with poverty mismatch as 0\n",
    "    3. Will store total families with poverty match as 1\n",
    "    4. variable \"poverty_mismatch_count\"\n",
    "    \n",
    "    \"\"\"\n",
    "    poverty_mismatch_count = [[],[]]\n",
    "    for id_h in np.unique(inp_data.idhogar):\n",
    "        temp = inp_data[inp_data.idhogar == id_h]\n",
    "        if(len(temp.Target.unique())>1): # if idhogar\n",
    "            poverty_mismatch_count[0].append(0)\n",
    "            #print(\"temp\",temp.Target.unique(), \"Unmatched\")\n",
    "            \n",
    "        else:\n",
    "            poverty_mismatch_count[1].append(1)\n",
    "            #pass\n",
    "            #print(\"temp\",temp.Target.unique(), \"Matched\")\n",
    "    return poverty_mismatch_count\n",
    "        #break"
   ]
  },
  {
   "cell_type": "code",
   "execution_count": 123,
   "metadata": {},
   "outputs": [],
   "source": [
    "poverty_match_count = poverty_level_check(inp_train_data)"
   ]
  },
  {
   "cell_type": "code",
   "execution_count": 124,
   "metadata": {},
   "outputs": [
    {
     "data": {
      "text/plain": [
       "2988"
      ]
     },
     "execution_count": 124,
     "metadata": {},
     "output_type": "execute_result"
    }
   ],
   "source": [
    "## Total families is equal total unique hogar ids\n",
    "\n",
    "total_families = np.unique(inp_train_data.idhogar)\n",
    "total_families.shape[0]"
   ]
  },
  {
   "cell_type": "code",
   "execution_count": 125,
   "metadata": {},
   "outputs": [
    {
     "name": "stdout",
     "output_type": "stream",
     "text": [
      "total families with poverty_mismatch_count ==> 85\n",
      "total families with poverty_match_count ==> 2903\n"
     ]
    }
   ],
   "source": [
    "print(\"total families with poverty_mismatch_count ==>\", len(poverty_match_count[0]))\n",
    "print(\"total families with poverty_match_count ==>\", len(poverty_match_count[1]))\n"
   ]
  },
  {
   "cell_type": "code",
   "execution_count": 126,
   "metadata": {},
   "outputs": [
    {
     "data": {
      "text/plain": [
       "Text(0, 0.5, 'No of families')"
      ]
     },
     "execution_count": 126,
     "metadata": {},
     "output_type": "execute_result"
    },
    {
     "data": {
      "image/png": "[encoded data removed]",
      "text/plain": [
       "<Figure size 432x288 with 1 Axes>"
      ]
     },
     "metadata": {
      "needs_background": "light"
     },
     "output_type": "display_data"
    }
   ],
   "source": [
    "# Visually we can see mismatch vs match\n",
    "\n",
    "plt.bar(\"mismatch\",len(poverty_match_count[0]))\n",
    "plt.bar(\"match\",len(poverty_match_count[1]))\n",
    "plt.xlabel(\"Match class\")\n",
    "plt.ylabel(\"No of families\")"
   ]
  },
  {
   "cell_type": "markdown",
   "metadata": {},
   "source": [
    "## House with and without family head"
   ]
  },
  {
   "cell_type": "markdown",
   "metadata": {},
   "source": [
    "#### parentesco1 = 1 represents family head\n",
    "#### every head will have unique idhogar\n",
    "#### the remaining unique idhogar ids will be the no of houses without head"
   ]
  },
  {
   "cell_type": "code",
   "execution_count": 127,
   "metadata": {},
   "outputs": [],
   "source": [
    "families_with_head= inp_train_data[inp_train_data.parentesco1 ==1]"
   ]
  },
  {
   "cell_type": "code",
   "execution_count": 128,
   "metadata": {},
   "outputs": [
    {
     "data": {
      "text/plain": [
       "2973"
      ]
     },
     "execution_count": 128,
     "metadata": {},
     "output_type": "execute_result"
    }
   ],
   "source": [
    "no_of_families_with_head = families_with_head.idhogar.nunique()#.shape, families_without_head.shape\n",
    "no_of_families_with_head"
   ]
  },
  {
   "cell_type": "code",
   "execution_count": 129,
   "metadata": {},
   "outputs": [],
   "source": [
    "no_of_families_without_head = 0\n",
    "for id_h in inp_train_data.idhogar.unique():\n",
    "    if(id_h in families_with_head.idhogar.unique()):\n",
    "        pass\n",
    "    else:\n",
    "        no_of_families_without_head+=1\n",
    "    "
   ]
  },
  {
   "cell_type": "code",
   "execution_count": 130,
   "metadata": {},
   "outputs": [
    {
     "data": {
      "text/plain": [
       "15"
      ]
     },
     "execution_count": 130,
     "metadata": {},
     "output_type": "execute_result"
    }
   ],
   "source": [
    "no_of_families_without_head"
   ]
  },
  {
   "cell_type": "code",
   "execution_count": 131,
   "metadata": {},
   "outputs": [
    {
     "name": "stdout",
     "output_type": "stream",
     "text": [
      "no_of_families_with_head ==> 2973\n",
      "no_of_families_without_head ==> 15\n"
     ]
    }
   ],
   "source": [
    "print(\"no_of_families_with_head ==>\", no_of_families_with_head)\n",
    "print(\"no_of_families_without_head ==>\", no_of_families_without_head)"
   ]
  },
  {
   "cell_type": "code",
   "execution_count": 132,
   "metadata": {},
   "outputs": [
    {
     "data": {
      "text/plain": [
       "Text(0, 0.5, 'family head count')"
      ]
     },
     "execution_count": 132,
     "metadata": {},
     "output_type": "execute_result"
    },
    {
     "data": {
      "image/png": "[encoded data removed]",
      "text/plain": [
       "<Figure size 432x288 with 1 Axes>"
      ]
     },
     "metadata": {
      "needs_background": "light"
     },
     "output_type": "display_data"
    }
   ],
   "source": [
    "# Visually we can see family without head vs family with head count\n",
    "\n",
    "plt.bar(\"Families without head\",no_of_families_without_head)\n",
    "plt.bar(\"Families with head\",no_of_families_with_head)\n",
    "plt.xlabel(\"Head Class\")\n",
    "plt.ylabel(\"family head count\")"
   ]
  },
  {
   "cell_type": "markdown",
   "metadata": {},
   "source": [
    "# Transforming data for modelling\n",
    "\n",
    "\n",
    "#### Setting Poverty Level of mismatch poverty level families"
   ]
  },
  {
   "cell_type": "code",
   "execution_count": 133,
   "metadata": {},
   "outputs": [
    {
     "data": {
      "text/plain": [
       "85"
      ]
     },
     "execution_count": 133,
     "metadata": {},
     "output_type": "execute_result"
    }
   ],
   "source": [
    "# Total mismatches\n",
    "len(poverty_match_count[0])"
   ]
  },
  {
   "cell_type": "markdown",
   "metadata": {},
   "source": [
    "#### we will work on a temp train data so that original dataframe is not affected\n",
    "#### Since Target column does not contain null values we can refer it to form temp Variable"
   ]
  },
  {
   "cell_type": "code",
   "execution_count": 134,
   "metadata": {},
   "outputs": [
    {
     "name": "stderr",
     "output_type": "stream",
     "text": [
      "C:\\python\\lib\\site-packages\\pandas\\core\\ops\\__init__.py:1115: FutureWarning: elementwise comparison failed; returning scalar instead, but in the future will perform elementwise comparison\n",
      "  result = method(y)\n"
     ]
    },
    {
     "data": {
      "text/plain": [
       "((9557, 143), (9557, 143))"
      ]
     },
     "execution_count": 134,
     "metadata": {},
     "output_type": "execute_result"
    }
   ],
   "source": [
    "\n",
    "\n",
    "temp_train_data = inp_train_data[inp_train_data.Target !=\"nan\"]\n",
    "\n",
    "inp_train_data.shape, temp_train_data.shape\n",
    "\n",
    "# temp_train_data is a dataframe that is exact same as train dataframe\n",
    "# we will do changes in this dataframe"
   ]
  },
  {
   "cell_type": "markdown",
   "metadata": {},
   "source": [
    "##### Make a list of Number of families with head"
   ]
  },
  {
   "cell_type": "code",
   "execution_count": 135,
   "metadata": {},
   "outputs": [
    {
     "data": {
      "text/plain": [
       "2973"
      ]
     },
     "execution_count": 135,
     "metadata": {},
     "output_type": "execute_result"
    }
   ],
   "source": [
    "list_idhogar_with_head= list(inp_train_data[inp_train_data.parentesco1 ==1].idhogar)\n",
    "len(list_idhogar_with_head)"
   ]
  },
  {
   "cell_type": "markdown",
   "metadata": {},
   "source": [
    "#### If a family have unbalaced poverty and has a family head\n",
    "#### Poverty level of all family heads will set to family head poverty level\n",
    "#### Else we will set to the level which have maximum occurance in the family"
   ]
  },
  {
   "cell_type": "markdown",
   "metadata": {},
   "source": [
    "#### Before there are 85 families with poverty mismatch"
   ]
  },
  {
   "cell_type": "code",
   "execution_count": 136,
   "metadata": {},
   "outputs": [
    {
     "name": "stdout",
     "output_type": "stream",
     "text": [
      "85\n"
     ]
    }
   ],
   "source": [
    "poverty_match_count = poverty_level_check(temp_train_data)\n",
    "print(len(poverty_match_count[0]))"
   ]
  },
  {
   "cell_type": "code",
   "execution_count": 137,
   "metadata": {},
   "outputs": [],
   "source": [
    "def setting_poverty_level(inpp_data):\n",
    "\n",
    "    #poverty_mismatch_count = [[],[]]\n",
    "    count = 0\n",
    "    for id_h in np.unique(inpp_data.idhogar):\n",
    "        count+=1\n",
    "        temp = inpp_data[inpp_data.idhogar == id_h]\n",
    "        if(len(temp.Target.unique())>1):\n",
    "            \n",
    "            if(id_h in list_idhogar_with_head):\n",
    "                #print(\"here\")\n",
    "                #print(\"target values before:\", temp[temp.parentesco1 ==1].Target)\n",
    "                inpp_data.loc[inpp_data.idhogar == id_h,\"Target\"]  = int(temp[temp.parentesco1 ==1][\"Target\"].values[0])\n",
    "                #print(\"target values After: \", temp_train_data[temp_train_data.idhogar == id_h].Target)\n",
    "            else:\n",
    "\n",
    "                x = temp.Target.value_counts()\n",
    "                #print(x)\n",
    "                x.index[0]\n",
    "                #print(x)\n",
    "\n",
    "                inpp_data.loc[inpp_data.idhogar == id_h,\"Target\"] = x.index[0]\n",
    "                print(\"Families withot head\")\n",
    "    #print(count)\n",
    "    return inpp_data\n",
    "            \n",
    "                \n",
    "                "
   ]
  },
  {
   "cell_type": "code",
   "execution_count": 138,
   "metadata": {},
   "outputs": [],
   "source": [
    "#setting_poverty_level()"
   ]
  },
  {
   "cell_type": "code",
   "execution_count": 139,
   "metadata": {},
   "outputs": [],
   "source": [
    "temp_train_data =  setting_poverty_level(temp_train_data)"
   ]
  },
  {
   "cell_type": "markdown",
   "metadata": {},
   "source": [
    "#### Lets check mismatch count after setting poverty level"
   ]
  },
  {
   "cell_type": "code",
   "execution_count": 140,
   "metadata": {},
   "outputs": [
    {
     "name": "stdout",
     "output_type": "stream",
     "text": [
      "0\n"
     ]
    }
   ],
   "source": [
    "poverty_match_count = poverty_level_check(temp_train_data)\n",
    "print(len(poverty_match_count[0]))"
   ]
  },
  {
   "cell_type": "markdown",
   "metadata": {},
   "source": [
    "#### By Observation \n",
    "#### Every family that has unbalace poverty\n",
    "#### Also have family head"
   ]
  },
  {
   "cell_type": "code",
   "execution_count": null,
   "metadata": {},
   "outputs": [],
   "source": []
  },
  {
   "cell_type": "markdown",
   "metadata": {},
   "source": [
    "# Null Values in each Column"
   ]
  },
  {
   "cell_type": "code",
   "execution_count": 141,
   "metadata": {},
   "outputs": [
    {
     "data": {
      "text/plain": [
       "pandas.core.series.Series"
      ]
     },
     "execution_count": 141,
     "metadata": {},
     "output_type": "execute_result"
    }
   ],
   "source": [
    "null_value_each_col = temp_train_data.isnull().sum()\n",
    "type(null_value_each_col)"
   ]
  },
  {
   "cell_type": "code",
   "execution_count": 142,
   "metadata": {},
   "outputs": [
    {
     "data": {
      "text/plain": [
       "v2a1         6860\n",
       "v18q1        7342\n",
       "rez_esc      7928\n",
       "meaneduc        5\n",
       "SQBmeaned       5\n",
       "dtype: int64"
      ]
     },
     "execution_count": 142,
     "metadata": {},
     "output_type": "execute_result"
    }
   ],
   "source": [
    "null_value_each_col = null_value_each_col[null_value_each_col>0]\n",
    "null_value_each_col"
   ]
  },
  {
   "cell_type": "markdown",
   "metadata": {},
   "source": [
    "# Remove Null Value Row of Target Variable"
   ]
  },
  {
   "cell_type": "code",
   "execution_count": 143,
   "metadata": {},
   "outputs": [
    {
     "data": {
      "text/plain": [
       "False"
      ]
     },
     "execution_count": 143,
     "metadata": {},
     "output_type": "execute_result"
    }
   ],
   "source": [
    "inp_train_data.Target.isnull().any()"
   ]
  },
  {
   "cell_type": "markdown",
   "metadata": {},
   "source": [
    "#### No null value in target \n",
    "#### So we will not remove any row"
   ]
  },
  {
   "cell_type": "code",
   "execution_count": 144,
   "metadata": {},
   "outputs": [
    {
     "data": {
      "text/plain": [
       "array([dtype('O'), dtype('float64'), dtype('int64')], dtype=object)"
      ]
     },
     "execution_count": 144,
     "metadata": {},
     "output_type": "execute_result"
    }
   ],
   "source": [
    "(temp_train_data.dtypes).unique()"
   ]
  },
  {
   "cell_type": "markdown",
   "metadata": {},
   "source": [
    "#### So we have total three types of data in our input\n",
    "#### Object type, Int type, Float type\n",
    "#### We will change object type to Int or float for modeling"
   ]
  },
  {
   "cell_type": "code",
   "execution_count": 145,
   "metadata": {},
   "outputs": [
    {
     "data": {
      "text/plain": [
       "int64      130\n",
       "float64      8\n",
       "object       5\n",
       "dtype: int64"
      ]
     },
     "execution_count": 145,
     "metadata": {},
     "output_type": "execute_result"
    }
   ],
   "source": [
    "# Datatype of each column\n",
    "(temp_train_data.dtypes).value_counts()"
   ]
  },
  {
   "cell_type": "markdown",
   "metadata": {},
   "source": [
    "#### Five columns are there that has to be transformed"
   ]
  },
  {
   "cell_type": "code",
   "execution_count": 146,
   "metadata": {},
   "outputs": [
    {
     "data": {
      "text/plain": [
       "Id            True\n",
       "idhogar       True\n",
       "dependency    True\n",
       "edjefe        True\n",
       "edjefa        True\n",
       "dtype: bool"
      ]
     },
     "execution_count": 146,
     "metadata": {},
     "output_type": "execute_result"
    }
   ],
   "source": [
    "# We have to transform 5 columns for training of model\n",
    "\n",
    "column_type = temp_train_data.dtypes =='object'\n",
    "column_type[column_type == True]"
   ]
  },
  {
   "cell_type": "markdown",
   "metadata": {},
   "source": [
    "#### We will transform train and Test data both so that they are alike"
   ]
  },
  {
   "cell_type": "markdown",
   "metadata": {},
   "source": [
    "#### Drop  id's because it does not contribute much to prediction"
   ]
  },
  {
   "cell_type": "code",
   "execution_count": 147,
   "metadata": {},
   "outputs": [],
   "source": [
    "temp_train_data.drop(['Id','idhogar'], axis =1, inplace = True)\n",
    "inp_test_data.drop(['Id','idhogar'], axis =1, inplace = True)"
   ]
  },
  {
   "cell_type": "markdown",
   "metadata": {},
   "source": [
    "#### Transform dependency column"
   ]
  },
  {
   "cell_type": "code",
   "execution_count": 148,
   "metadata": {},
   "outputs": [
    {
     "name": "stdout",
     "output_type": "stream",
     "text": [
      "['no' '8' 'yes' '3' '.5' '.25' '2' '.66666669' '.33333334' '1.5'\n",
      " '.40000001' '.75' '1.25' '.2' '2.5' '1.2' '4' '1.3333334' '2.25'\n",
      " '.22222222' '5' '.83333331' '.80000001' '6' '3.5' '1.6666666' '.2857143'\n",
      " '1.75' '.71428573' '.16666667' '.60000002']\n",
      "['.5' 'no' '8' 'yes' '.25' '2' '.33333334' '.375' '.60000002' '1.5' '.2'\n",
      " '.75' '.66666669' '3' '.14285715' '.40000001' '.80000001' '1.6666666'\n",
      " '.2857143' '1.25' '2.5' '5' '.85714287' '1.3333334' '.16666667' '4'\n",
      " '.125' '.83333331' '2.3333333' '7' '1.2' '3.5' '2.25' '3.3333333' '6']\n"
     ]
    }
   ],
   "source": [
    "print(temp_train_data.dependency.unique())\n",
    "print(inp_test_data.dependency.unique())\n"
   ]
  },
  {
   "cell_type": "code",
   "execution_count": 149,
   "metadata": {},
   "outputs": [],
   "source": [
    "##   If we supply errors ='coerce' it will put a nan of object types\n",
    "##   Further we have deal with it\n",
    "\n",
    "temp_train_data.dependency = pd.to_numeric(temp_train_data.dependency, errors ='coerce') \n",
    "inp_test_data.dependency = pd.to_numeric(inp_test_data.dependency, errors ='coerce') "
   ]
  },
  {
   "cell_type": "code",
   "execution_count": 150,
   "metadata": {},
   "outputs": [
    {
     "data": {
      "text/plain": [
       "array([       nan, 8.        , 3.        , 0.5       , 0.25      ,\n",
       "       2.        , 0.66666669, 0.33333334, 1.5       , 0.40000001,\n",
       "       0.75      , 1.25      , 0.2       , 2.5       , 1.2       ,\n",
       "       4.        , 1.3333334 , 2.25      , 0.22222222, 5.        ,\n",
       "       0.83333331, 0.80000001, 6.        , 3.5       , 1.6666666 ,\n",
       "       0.2857143 , 1.75      , 0.71428573, 0.16666667, 0.60000002])"
      ]
     },
     "execution_count": 150,
     "metadata": {},
     "output_type": "execute_result"
    }
   ],
   "source": [
    "temp_train_data.dependency.unique()"
   ]
  },
  {
   "cell_type": "markdown",
   "metadata": {},
   "source": [
    "#### Transform edjefe column"
   ]
  },
  {
   "cell_type": "code",
   "execution_count": 151,
   "metadata": {},
   "outputs": [
    {
     "name": "stdout",
     "output_type": "stream",
     "text": [
      "['10' '12' 'no' '11' '9' '15' '4' '6' '8' '17' '7' '16' '14' '5' '21' '2'\n",
      " '19' 'yes' '3' '18' '13' '20']\n",
      "['no' '16' '10' '6' '11' '8' '13' '14' '5' '3' '9' '17' '15' '7' '21' '4'\n",
      " '12' '2' '20' 'yes' '19' '18']\n"
     ]
    }
   ],
   "source": [
    "print(temp_train_data.edjefe.unique())\n",
    "print(inp_test_data.edjefe.unique())"
   ]
  },
  {
   "cell_type": "code",
   "execution_count": 152,
   "metadata": {},
   "outputs": [],
   "source": [
    "temp_train_data.edjefe = pd.to_numeric(temp_train_data.edjefe, errors ='coerce')\n",
    "inp_test_data.edjefe = pd.to_numeric(inp_test_data.edjefe, errors ='coerce')"
   ]
  },
  {
   "cell_type": "code",
   "execution_count": 153,
   "metadata": {},
   "outputs": [
    {
     "name": "stdout",
     "output_type": "stream",
     "text": [
      "[10. 12. nan 11.  9. 15.  4.  6.  8. 17.  7. 16. 14.  5. 21.  2. 19.  3.\n",
      " 18. 13. 20.]\n",
      "[nan 16. 10.  6. 11.  8. 13. 14.  5.  3.  9. 17. 15.  7. 21.  4. 12.  2.\n",
      " 20. 19. 18.]\n"
     ]
    }
   ],
   "source": [
    "print(temp_train_data.edjefe.unique())\n",
    "print(inp_test_data.edjefe.unique())"
   ]
  },
  {
   "cell_type": "markdown",
   "metadata": {},
   "source": [
    "#### Transform edjefa column"
   ]
  },
  {
   "cell_type": "code",
   "execution_count": 154,
   "metadata": {},
   "outputs": [
    {
     "name": "stdout",
     "output_type": "stream",
     "text": [
      "['no' '11' '4' '10' '9' '15' '7' '14' '13' '8' '17' '6' '5' '3' '16' '19'\n",
      " 'yes' '21' '12' '2' '20' '18']\n",
      "['17' 'no' '11' '14' '10' '15' '9' '6' '8' '3' '2' '5' '16' '12' 'yes' '7'\n",
      " '13' '21' '4' '19' '18' '20']\n"
     ]
    }
   ],
   "source": [
    "print(temp_train_data.edjefa.unique())\n",
    "print(inp_test_data.edjefa.unique())"
   ]
  },
  {
   "cell_type": "code",
   "execution_count": 155,
   "metadata": {},
   "outputs": [],
   "source": [
    "temp_train_data.edjefa = pd.to_numeric(temp_train_data.edjefa, errors ='coerce')\n",
    "inp_test_data.edjefa = pd.to_numeric(inp_test_data.edjefa, errors ='coerce')\n"
   ]
  },
  {
   "cell_type": "code",
   "execution_count": 156,
   "metadata": {},
   "outputs": [
    {
     "name": "stdout",
     "output_type": "stream",
     "text": [
      "[nan 11.  4. 10.  9. 15.  7. 14. 13.  8. 17.  6.  5.  3. 16. 19. 21. 12.\n",
      "  2. 20. 18.]\n",
      "[17. nan 11. 14. 10. 15.  9.  6.  8.  3.  2.  5. 16. 12.  7. 13. 21.  4.\n",
      " 19. 18. 20.]\n"
     ]
    }
   ],
   "source": [
    "print(temp_train_data.edjefa.unique())\n",
    "print(inp_test_data.edjefa.unique())"
   ]
  },
  {
   "cell_type": "markdown",
   "metadata": {},
   "source": [
    "#### Lets fill the NAN values to zero "
   ]
  },
  {
   "cell_type": "code",
   "execution_count": 157,
   "metadata": {},
   "outputs": [],
   "source": [
    "## For train\n",
    "\n",
    "temp_train_data.dependency.fillna(0, inplace = True)\n",
    "temp_train_data.edjefe.fillna(0, inplace = True)\n",
    "temp_train_data.edjefa.fillna(0, inplace = True)\n",
    "\n",
    "# For Test\n",
    "\n",
    "inp_test_data.dependency.fillna(0, inplace = True)\n",
    "inp_test_data.edjefe.fillna(0, inplace = True)\n",
    "inp_test_data.edjefa.fillna(0, inplace = True)\n"
   ]
  },
  {
   "cell_type": "code",
   "execution_count": 158,
   "metadata": {},
   "outputs": [
    {
     "data": {
      "text/plain": [
       "v2a1                True\n",
       "hacdor             False\n",
       "rooms              False\n",
       "hacapo             False\n",
       "v14a               False\n",
       "                   ...  \n",
       "SQBovercrowding    False\n",
       "SQBdependency      False\n",
       "SQBmeaned           True\n",
       "agesq              False\n",
       "Target             False\n",
       "Length: 141, dtype: bool"
      ]
     },
     "execution_count": 158,
     "metadata": {},
     "output_type": "execute_result"
    }
   ],
   "source": [
    "temp_train_data.isnull().any()"
   ]
  },
  {
   "cell_type": "markdown",
   "metadata": {},
   "source": [
    "#### Check columns with NAN values and change them to zero"
   ]
  },
  {
   "cell_type": "code",
   "execution_count": null,
   "metadata": {},
   "outputs": [],
   "source": []
  },
  {
   "cell_type": "code",
   "execution_count": 159,
   "metadata": {},
   "outputs": [
    {
     "data": {
      "text/plain": [
       "v2a1         6860\n",
       "v18q1        7342\n",
       "rez_esc      7928\n",
       "meaneduc        5\n",
       "SQBmeaned       5\n",
       "dtype: int64"
      ]
     },
     "execution_count": 159,
     "metadata": {},
     "output_type": "execute_result"
    }
   ],
   "source": [
    "na_val = temp_train_data.isnull().sum()\n",
    "na_val[na_val>0]"
   ]
  },
  {
   "cell_type": "code",
   "execution_count": 160,
   "metadata": {},
   "outputs": [],
   "source": [
    "temp_train_data.v18q1.fillna(0, inplace = True)\n",
    "temp_train_data.v2a1.fillna(0, inplace = True)\n",
    "temp_train_data.rez_esc.fillna(0, inplace = True)\n",
    "temp_train_data.meaneduc.fillna(0, inplace = True)\n",
    "temp_train_data.SQBmeaned.fillna(0, inplace = True)\n",
    "\n",
    "# For test\n",
    "\n",
    "inp_test_data.v18q1.fillna(0, inplace = True)\n",
    "inp_test_data.v2a1.fillna(0, inplace = True)\n",
    "inp_test_data.rez_esc.fillna(0, inplace = True)\n",
    "inp_test_data.meaneduc.fillna(0, inplace = True)\n",
    "inp_test_data.SQBmeaned.fillna(0, inplace = True)"
   ]
  },
  {
   "cell_type": "code",
   "execution_count": 161,
   "metadata": {},
   "outputs": [
    {
     "data": {
      "text/plain": [
       "False    141\n",
       "dtype: int64"
      ]
     },
     "execution_count": 161,
     "metadata": {},
     "output_type": "execute_result"
    }
   ],
   "source": [
    "temp_train_data.isnull().any().value_counts()"
   ]
  },
  {
   "cell_type": "markdown",
   "metadata": {},
   "source": [
    "#### Lets Seperate Features and output classes"
   ]
  },
  {
   "cell_type": "code",
   "execution_count": 162,
   "metadata": {},
   "outputs": [],
   "source": [
    "features = temp_train_data.drop(\"Target\", axis =1)\n",
    "output_class = temp_train_data.Target"
   ]
  },
  {
   "cell_type": "code",
   "execution_count": 163,
   "metadata": {},
   "outputs": [],
   "source": [
    "from sklearn.model_selection import train_test_split\n",
    "train_xxx, CV_xxx, train_yyy, CV_yyy = train_test_split(features, output_class, test_size =.2) "
   ]
  },
  {
   "cell_type": "markdown",
   "metadata": {},
   "source": [
    "## Model Making"
   ]
  },
  {
   "cell_type": "markdown",
   "metadata": {},
   "source": [
    "### We will make model in three stages\n",
    "### 1st =>on 20% cross validation\n",
    "### 2nd =>on optimal parameters extracted using k fold and grid cv\n",
    "### 3rd =>apply these parameters on whole train dataset\n",
    "### We =>will predict our test data on all above three models and draw countplots"
   ]
  },
  {
   "cell_type": "markdown",
   "metadata": {},
   "source": [
    "#### 1st Model :\n",
    "#### We will take 80 % as train set and 20 % as cross validation set\n",
    "#### Check for results and Tune model accordingly\n"
   ]
  },
  {
   "cell_type": "code",
   "execution_count": 164,
   "metadata": {},
   "outputs": [],
   "source": [
    "\n",
    "from sklearn.ensemble import RandomForestClassifier\n",
    "rf = RandomForestClassifier()\n"
   ]
  },
  {
   "cell_type": "code",
   "execution_count": 165,
   "metadata": {},
   "outputs": [
    {
     "data": {
      "text/plain": [
       "RandomForestClassifier(bootstrap=True, ccp_alpha=0.0, class_weight=None,\n",
       "                       criterion='gini', max_depth=None, max_features='auto',\n",
       "                       max_leaf_nodes=None, max_samples=None,\n",
       "                       min_impurity_decrease=0.0, min_impurity_split=None,\n",
       "                       min_samples_leaf=1, min_samples_split=2,\n",
       "                       min_weight_fraction_leaf=0.0, n_estimators=100,\n",
       "                       n_jobs=None, oob_score=False, random_state=None,\n",
       "                       verbose=0, warm_start=False)"
      ]
     },
     "execution_count": 165,
     "metadata": {},
     "output_type": "execute_result"
    }
   ],
   "source": [
    "rf.fit(train_xxx,train_yyy)\n"
   ]
  },
  {
   "cell_type": "code",
   "execution_count": 166,
   "metadata": {},
   "outputs": [],
   "source": [
    "train_predictions = rf.predict(train_xxx)\n",
    "CV_predictions = rf.predict(CV_xxx)\n"
   ]
  },
  {
   "cell_type": "code",
   "execution_count": 167,
   "metadata": {},
   "outputs": [
    {
     "data": {
      "text/plain": [
       "True    7645\n",
       "Name: Target, dtype: int64"
      ]
     },
     "execution_count": 167,
     "metadata": {},
     "output_type": "execute_result"
    }
   ],
   "source": [
    "(train_predictions==train_yyy).value_counts()\n"
   ]
  },
  {
   "cell_type": "code",
   "execution_count": 1,
   "metadata": {},
   "outputs": [
    {
     "data": {
      "text/plain": [
       "(9557, 1912)"
      ]
     },
     "execution_count": 1,
     "metadata": {},
     "output_type": "execute_result"
    }
   ],
   "source": [
    "9557, 9557-7645"
   ]
  },
  {
   "cell_type": "markdown",
   "metadata": {},
   "source": [
    "#### Train Accuracy"
   ]
  },
  {
   "cell_type": "code",
   "execution_count": 168,
   "metadata": {},
   "outputs": [
    {
     "data": {
      "text/plain": [
       "True    1.0\n",
       "Name: Target, dtype: float64"
      ]
     },
     "execution_count": 168,
     "metadata": {},
     "output_type": "execute_result"
    }
   ],
   "source": [
    "(train_predictions==train_yyy).value_counts()/train_yyy.shape[0]\n"
   ]
  },
  {
   "cell_type": "markdown",
   "metadata": {},
   "source": [
    "#### Cross validation Accuracy"
   ]
  },
  {
   "cell_type": "code",
   "execution_count": 169,
   "metadata": {},
   "outputs": [
    {
     "data": {
      "text/plain": [
       "True     0.936715\n",
       "False    0.063285\n",
       "Name: Target, dtype: float64"
      ]
     },
     "execution_count": 169,
     "metadata": {},
     "output_type": "execute_result"
    }
   ],
   "source": [
    "(CV_predictions==CV_yyy).value_counts()/CV_yyy.shape[0]"
   ]
  },
  {
   "cell_type": "markdown",
   "metadata": {},
   "source": [
    "#### Test prediction and plot"
   ]
  },
  {
   "cell_type": "code",
   "execution_count": 170,
   "metadata": {},
   "outputs": [
    {
     "data": {
      "text/plain": [
       "array([    0,   846,  2974,   789, 19247], dtype=int64)"
      ]
     },
     "execution_count": 170,
     "metadata": {},
     "output_type": "execute_result"
    }
   ],
   "source": [
    "test_predict = rf.predict(inp_test_data)\n",
    "np.bincount(test_predict)"
   ]
  },
  {
   "cell_type": "code",
   "execution_count": 171,
   "metadata": {},
   "outputs": [
    {
     "data": {
      "text/plain": [
       "<matplotlib.axes._subplots.AxesSubplot at 0x200ebbee848>"
      ]
     },
     "execution_count": 171,
     "metadata": {},
     "output_type": "execute_result"
    },
    {
     "data": {
      "image/png": "[encoded data removed]",
      "text/plain": [
       "<Figure size 432x288 with 1 Axes>"
      ]
     },
     "metadata": {
      "needs_background": "light"
     },
     "output_type": "display_data"
    }
   ],
   "source": [
    "sns.countplot(test_predict)"
   ]
  },
  {
   "cell_type": "code",
   "execution_count": null,
   "metadata": {},
   "outputs": [],
   "source": []
  },
  {
   "cell_type": "markdown",
   "metadata": {},
   "source": [
    "#### Since train accuracy is 100% and test accuracy is 93% our model is over fitted\n",
    "\n",
    "#### To avoid over-fitting in random forest, the main thing you need to do is optimize\n",
    "#### a tuning parameter that governs the number of features that are randomly chosen \n",
    "#### to grow each tree from the bootstrapped data.\n"
   ]
  },
  {
   "cell_type": "code",
   "execution_count": 172,
   "metadata": {},
   "outputs": [],
   "source": [
    "# StratifiedKFold  :==> Takes group information into account to avoid building folds with \n",
    "# imbalanced class distributions(for binary or multiclass classification tasks).\n",
    "\n",
    "\n",
    "# https://mljar.com/blog/random-forest-overfitting/"
   ]
  },
  {
   "cell_type": "code",
   "execution_count": 173,
   "metadata": {},
   "outputs": [],
   "source": [
    "# Your model should capture the variance but not unnecessary\n",
    "\n",
    "\n",
    "\n",
    "# Why random forests overfit\n",
    "# a random forest with a single tree is  like single decision tree\n",
    "# a decision tree is sensitive to noise in data and can overfit\n",
    "# adding more trees will help reducing overfit but up to some point\n",
    "# adding more trees will not help\n",
    "# Adjusting min_samples_leaf is pruning trees and if min_samples_leaf is less means it can\n",
    "# Capture noise\n",
    "# But in our case low min_samples_leaf is giving better accuracy on Cross Validation set\n"
   ]
  },
  {
   "cell_type": "markdown",
   "metadata": {},
   "source": [
    "#### We will do K fold cross validation and grid search to find optimal Parameters"
   ]
  },
  {
   "cell_type": "code",
   "execution_count": 174,
   "metadata": {},
   "outputs": [],
   "source": [
    "# StratifiedKFold tries to do balance class distribution of data\n",
    "\n",
    "from sklearn.model_selection import StratifiedKFold  "
   ]
  },
  {
   "cell_type": "code",
   "execution_count": 175,
   "metadata": {},
   "outputs": [],
   "source": [
    "features_arr = np.array(features)\n",
    "out_class_arr = np.array(output_class)\n"
   ]
  },
  {
   "cell_type": "code",
   "execution_count": 176,
   "metadata": {},
   "outputs": [
    {
     "name": "stdout",
     "output_type": "stream",
     "text": [
      "value of K is  2\n",
      "shapes train test (4778, 140) (4779, 140)\n",
      "accuracy: 0.875915463486085\n",
      "shapes train test (4779, 140) (4778, 140)\n",
      "accuracy: 0.8727501046462955\n",
      "Average_accuracy: 0.8743327840661903\n",
      "value of K is  3\n",
      "shapes train test (6371, 140) (3186, 140)\n",
      "accuracy: 0.9058380414312618\n",
      "shapes train test (6371, 140) (3186, 140)\n",
      "accuracy: 0.9124293785310734\n",
      "shapes train test (6372, 140) (3185, 140)\n",
      "accuracy: 0.9230769230769231\n",
      "Average_accuracy: 0.9137814476797527\n",
      "value of K is  4\n",
      "shapes train test (7167, 140) (2390, 140)\n",
      "accuracy: 0.9251046025104602\n",
      "shapes train test (7168, 140) (2389, 140)\n",
      "accuracy: 0.9317706153202177\n",
      "shapes train test (7168, 140) (2389, 140)\n",
      "accuracy: 0.9246546672247803\n",
      "shapes train test (7168, 140) (2389, 140)\n",
      "accuracy: 0.930514859773964\n",
      "Average_accuracy: 0.9280111862073556\n",
      "value of K is  5\n",
      "shapes train test (7645, 140) (1912, 140)\n",
      "accuracy: 0.9309623430962343\n",
      "shapes train test (7645, 140) (1912, 140)\n",
      "accuracy: 0.9440376569037657\n",
      "shapes train test (7646, 140) (1911, 140)\n",
      "accuracy: 0.9277864992150706\n",
      "shapes train test (7646, 140) (1911, 140)\n",
      "accuracy: 0.9408686551543695\n",
      "shapes train test (7646, 140) (1911, 140)\n",
      "accuracy: 0.9413919413919414\n",
      "Average_accuracy: 0.9370094191522762\n",
      "value of K is  6\n",
      "shapes train test (7964, 140) (1593, 140)\n",
      "accuracy: 0.9403640929064658\n",
      "shapes train test (7964, 140) (1593, 140)\n",
      "accuracy: 0.9422473320778405\n",
      "shapes train test (7964, 140) (1593, 140)\n",
      "accuracy: 0.9409918392969241\n",
      "shapes train test (7964, 140) (1593, 140)\n",
      "accuracy: 0.9347143753923415\n",
      "shapes train test (7964, 140) (1593, 140)\n",
      "accuracy: 0.938480853735091\n",
      "shapes train test (7965, 140) (1592, 140)\n",
      "accuracy: 0.9409547738693468\n",
      "Average_accuracy: 0.939625544546335\n",
      "value of K is  7\n",
      "shapes train test (8191, 140) (1366, 140)\n",
      "accuracy: 0.9407027818448024\n",
      "shapes train test (8191, 140) (1366, 140)\n",
      "accuracy: 0.9502196193265008\n",
      "shapes train test (8192, 140) (1365, 140)\n",
      "accuracy: 0.9267399267399268\n",
      "shapes train test (8192, 140) (1365, 140)\n",
      "accuracy: 0.9538461538461539\n",
      "shapes train test (8192, 140) (1365, 140)\n",
      "accuracy: 0.9545787545787546\n",
      "shapes train test (8192, 140) (1365, 140)\n",
      "accuracy: 0.9406593406593406\n",
      "shapes train test (8192, 140) (1365, 140)\n",
      "accuracy: 0.9487179487179487\n",
      "Average_accuracy: 0.9450663608162041\n",
      "value of K is  8\n",
      "shapes train test (8362, 140) (1195, 140)\n",
      "accuracy: 0.9380753138075314\n",
      "shapes train test (8362, 140) (1195, 140)\n",
      "accuracy: 0.9430962343096234\n",
      "shapes train test (8362, 140) (1195, 140)\n",
      "accuracy: 0.9447698744769875\n",
      "shapes train test (8362, 140) (1195, 140)\n",
      "accuracy: 0.9481171548117154\n",
      "shapes train test (8362, 140) (1195, 140)\n",
      "accuracy: 0.9489539748953975\n",
      "shapes train test (8363, 140) (1194, 140)\n",
      "accuracy: 0.9556113902847572\n",
      "shapes train test (8363, 140) (1194, 140)\n",
      "accuracy: 0.9413735343383585\n",
      "shapes train test (8363, 140) (1194, 140)\n",
      "accuracy: 0.9430485762144054\n",
      "Average_accuracy: 0.9453807566423471\n",
      "value of K is  9\n",
      "shapes train test (8495, 140) (1062, 140)\n",
      "accuracy: 0.9444444444444444\n",
      "shapes train test (8495, 140) (1062, 140)\n",
      "accuracy: 0.940677966101695\n",
      "shapes train test (8495, 140) (1062, 140)\n",
      "accuracy: 0.9453860640301318\n",
      "shapes train test (8495, 140) (1062, 140)\n",
      "accuracy: 0.9416195856873822\n",
      "shapes train test (8495, 140) (1062, 140)\n",
      "accuracy: 0.9529190207156308\n",
      "shapes train test (8495, 140) (1062, 140)\n",
      "accuracy: 0.9538606403013182\n",
      "shapes train test (8495, 140) (1062, 140)\n",
      "accuracy: 0.9378531073446328\n",
      "shapes train test (8495, 140) (1062, 140)\n",
      "accuracy: 0.943502824858757\n",
      "shapes train test (8496, 140) (1061, 140)\n",
      "accuracy: 0.9519321394910462\n",
      "Average_accuracy: 0.945799532552782\n",
      "value of K is  10\n",
      "shapes train test (8601, 140) (956, 140)\n",
      "accuracy: 0.944560669456067\n",
      "shapes train test (8601, 140) (956, 140)\n",
      "accuracy: 0.9518828451882845\n",
      "shapes train test (8601, 140) (956, 140)\n",
      "accuracy: 0.9497907949790795\n",
      "shapes train test (8601, 140) (956, 140)\n",
      "accuracy: 0.9497907949790795\n",
      "shapes train test (8601, 140) (956, 140)\n",
      "accuracy: 0.950836820083682\n",
      "shapes train test (8601, 140) (956, 140)\n",
      "accuracy: 0.9393305439330544\n",
      "shapes train test (8601, 140) (956, 140)\n",
      "accuracy: 0.9456066945606695\n",
      "shapes train test (8602, 140) (955, 140)\n",
      "accuracy: 0.9465968586387434\n",
      "shapes train test (8602, 140) (955, 140)\n",
      "accuracy: 0.9403141361256544\n",
      "shapes train test (8602, 140) (955, 140)\n",
      "accuracy: 0.9486910994764398\n",
      "Average_accuracy: 0.9467401257420753\n"
     ]
    }
   ],
   "source": [
    "from sklearn.ensemble import RandomForestClassifier\n",
    "#rf = RandomForestClassifier()\n",
    "store_results =[]\n",
    "for i in range(2,11):\n",
    "    print(\"value of K is \", i)\n",
    "    avg = 0\n",
    "    skf = StratifiedKFold(n_splits=i, shuffle=True)\n",
    "    for train_ind, test_ind in skf.split(features_arr, out_class_arr):\n",
    "        #print(np.min(train_ind), np.max(train_ind))\n",
    "        #print(np.min(test_ind), np.max(test_ind))\n",
    "\n",
    "        #print(np.array(features_arr[train_ind]), out_class_arr[test_ind])\n",
    "        \n",
    "\n",
    "        clf = RandomForestClassifier()\n",
    "        clf.fit(features_arr[train_ind],out_class_arr[train_ind])\n",
    "        print(\"shapes train test\",features_arr[train_ind].shape, features_arr[test_ind].shape)\n",
    "        predictions = clf.predict(features_arr[test_ind])\n",
    "        accur = accuracy_score(predictions ,out_class_arr[test_ind])\n",
    "        avg+=accur\n",
    "        print(\"accuracy:\",accuracy_score(predictions ,out_class_arr[test_ind]))\n",
    "    print(\"Average_accuracy:\", avg/i)\n",
    "    store_results.append([i,avg/i])\n",
    "store_results_arr = np.array(store_results)"
   ]
  },
  {
   "cell_type": "code",
   "execution_count": 177,
   "metadata": {},
   "outputs": [
    {
     "data": {
      "text/plain": [
       "Text(0, 0.5, 'Accuracy score')"
      ]
     },
     "execution_count": 177,
     "metadata": {},
     "output_type": "execute_result"
    },
    {
     "data": {
      "image/png": "[encoded data removed]",
      "text/plain": [
       "<Figure size 432x288 with 1 Axes>"
      ]
     },
     "metadata": {
      "needs_background": "light"
     },
     "output_type": "display_data"
    }
   ],
   "source": [
    "# Plot of Accuarcy vs no of folds\n",
    "\n",
    "plt.scatter(store_results_arr[:,0],store_results_arr[:,1])\n",
    "plt.xlabel(\"No of folds\")\n",
    "plt.ylabel(\"Accuracy score\")"
   ]
  },
  {
   "cell_type": "markdown",
   "metadata": {},
   "source": [
    "#### After 8th fold the accuracy is not varing much so take k = 8"
   ]
  },
  {
   "cell_type": "markdown",
   "metadata": {},
   "source": [
    "#### Grid CV "
   ]
  },
  {
   "cell_type": "markdown",
   "metadata": {},
   "source": [
    "####  Commenting this code because it takes lot of time to run\n",
    "####  I have run once and got parameters\n"
   ]
  },
  {
   "cell_type": "code",
   "execution_count": 178,
   "metadata": {},
   "outputs": [
    {
     "data": {
      "text/plain": [
       "'\\nfrom sklearn.model_selection import GridSearchCV\\nclf1 = RandomForestClassifier(n_estimators = 500)\\ncv_parameters ={\"max_features\": np.arange(5,features.shape[1],10),\\n                  \"min_samples_leaf\" : np.arange(1,5,1), \"min_samples_split\" :np.arange(2,10,2)}\\n\\ncvv = GridSearchCV(clf1,cv_parameters )\\ncvv.get_params().keys()\\ncvv.fit(train_xxx,train_yyy)\\n'"
      ]
     },
     "execution_count": 178,
     "metadata": {},
     "output_type": "execute_result"
    }
   ],
   "source": [
    "\n",
    "'''\n",
    "from sklearn.model_selection import GridSearchCV\n",
    "clf1 = RandomForestClassifier(n_estimators = 500)\n",
    "cv_parameters ={\"max_features\": np.arange(5,features.shape[1],10),\n",
    "                  \"min_samples_leaf\" : np.arange(1,5,1), \"min_samples_split\" :np.arange(2,10,2)}\n",
    "\n",
    "cvv = GridSearchCV(clf1,cv_parameters )\n",
    "cvv.get_params().keys()\n",
    "cvv.fit(train_xxx,train_yyy)\n",
    "'''"
   ]
  },
  {
   "cell_type": "code",
   "execution_count": 179,
   "metadata": {},
   "outputs": [],
   "source": [
    "#cvv.best_estimator_"
   ]
  },
  {
   "cell_type": "code",
   "execution_count": 180,
   "metadata": {},
   "outputs": [
    {
     "data": {
      "text/plain": [
       "\"\\nRandomForestClassifier(bootstrap=True, ccp_alpha=0.0, class_weight=None,\\n                       criterion='gini', max_depth=None, max_features=95,\\n                       max_leaf_nodes=None, max_samples=None,\\n                       min_impurity_decrease=0.0, min_impurity_split=None,\\n                       min_samples_leaf=1, min_samples_split=2,\\n                       min_weight_fraction_leaf=0.0, n_estimators=500,\\n                       n_jobs=None, oob_score=False, random_state=None,\\n                       verbose=0, warm_start=False)\\n                       \\n\""
      ]
     },
     "execution_count": 180,
     "metadata": {},
     "output_type": "execute_result"
    }
   ],
   "source": [
    "'''\n",
    "RandomForestClassifier(bootstrap=True, ccp_alpha=0.0, class_weight=None,\n",
    "                       criterion='gini', max_depth=None, max_features=95,\n",
    "                       max_leaf_nodes=None, max_samples=None,\n",
    "                       min_impurity_decrease=0.0, min_impurity_split=None,\n",
    "                       min_samples_leaf=1, min_samples_split=2,\n",
    "                       min_weight_fraction_leaf=0.0, n_estimators=500,\n",
    "                       n_jobs=None, oob_score=False, random_state=None,\n",
    "                       verbose=0, warm_start=False)\n",
    "                       \n",
    "'''"
   ]
  },
  {
   "cell_type": "code",
   "execution_count": 181,
   "metadata": {},
   "outputs": [],
   "source": [
    "#cvv.best_params_"
   ]
  },
  {
   "cell_type": "code",
   "execution_count": 182,
   "metadata": {},
   "outputs": [
    {
     "data": {
      "text/plain": [
       "\"{'max_features': 95, 'min_samples_leaf': 1}\""
      ]
     },
     "execution_count": 182,
     "metadata": {},
     "output_type": "execute_result"
    }
   ],
   "source": [
    "'''{'max_features': 95, 'min_samples_leaf': 1}'''"
   ]
  },
  {
   "cell_type": "code",
   "execution_count": 183,
   "metadata": {},
   "outputs": [],
   "source": [
    "#cvv.best_score_"
   ]
  },
  {
   "cell_type": "code",
   "execution_count": 184,
   "metadata": {},
   "outputs": [
    {
     "data": {
      "text/plain": [
       "'0.9411379986919556'"
      ]
     },
     "execution_count": 184,
     "metadata": {},
     "output_type": "execute_result"
    }
   ],
   "source": [
    "'''0.9411379986919556'''    ### On 20% of test data"
   ]
  },
  {
   "cell_type": "markdown",
   "metadata": {},
   "source": [
    "###   So we have k fold as 7, max_feature = 95,\n",
    "###   min_sample_leaf =1, no of random forest 500 on safer side"
   ]
  },
  {
   "cell_type": "markdown",
   "metadata": {},
   "source": [
    "### 2nd Model"
   ]
  },
  {
   "cell_type": "code",
   "execution_count": 192,
   "metadata": {},
   "outputs": [],
   "source": [
    "from sklearn.model_selection import train_test_split\n",
    "train_xxxx, CV_xxxx, train_yyyy, CV_yyyy = train_test_split(features, output_class, test_size =1/7) "
   ]
  },
  {
   "cell_type": "code",
   "execution_count": 193,
   "metadata": {},
   "outputs": [
    {
     "data": {
      "text/plain": [
       "True     0.975842\n",
       "False    0.024158\n",
       "Name: Target, dtype: float64"
      ]
     },
     "execution_count": 193,
     "metadata": {},
     "output_type": "execute_result"
    }
   ],
   "source": [
    "from sklearn.ensemble import RandomForestClassifier\n",
    "rf1 = RandomForestClassifier(n_estimators= 500,max_features = 95,min_samples_leaf =1, random_state=10)\n",
    "rf1.fit(train_xxxx,train_yyyy)\n",
    "train_predictions = rf1.predict(train_xxxx)\n",
    "CV_predictions = rf1.predict(CV_xxxx)\n",
    "(CV_predictions==CV_yyyy).value_counts()/CV_yyyy.shape[0]"
   ]
  },
  {
   "cell_type": "code",
   "execution_count": 194,
   "metadata": {},
   "outputs": [
    {
     "data": {
      "text/plain": [
       "array([    0,   971,  3465,  1176, 18244], dtype=int64)"
      ]
     },
     "execution_count": 194,
     "metadata": {},
     "output_type": "execute_result"
    }
   ],
   "source": [
    "pred_test_data = rf1.predict(inp_test_data)\n",
    "np.bincount(pred_test_data)"
   ]
  },
  {
   "cell_type": "code",
   "execution_count": 195,
   "metadata": {},
   "outputs": [
    {
     "data": {
      "text/plain": [
       "<matplotlib.axes._subplots.AxesSubplot at 0x2008491b4c8>"
      ]
     },
     "execution_count": 195,
     "metadata": {},
     "output_type": "execute_result"
    },
    {
     "data": {
      "image/png": "[encoded data removed]",
      "text/plain": [
       "<Figure size 432x288 with 1 Axes>"
      ]
     },
     "metadata": {
      "needs_background": "light"
     },
     "output_type": "display_data"
    }
   ],
   "source": [
    "sns.countplot(pred_test_data)"
   ]
  },
  {
   "cell_type": "markdown",
   "metadata": {},
   "source": [
    "### 3rd Model"
   ]
  },
  {
   "cell_type": "markdown",
   "metadata": {},
   "source": [
    "#### Train On whole train set"
   ]
  },
  {
   "cell_type": "code",
   "execution_count": 196,
   "metadata": {},
   "outputs": [
    {
     "name": "stdout",
     "output_type": "stream",
     "text": [
      "Train Accuracy\n"
     ]
    },
    {
     "data": {
      "text/plain": [
       "True    1.0\n",
       "Name: Target, dtype: float64"
      ]
     },
     "execution_count": 196,
     "metadata": {},
     "output_type": "execute_result"
    }
   ],
   "source": [
    "from sklearn.ensemble import RandomForestClassifier\n",
    "rf2 = RandomForestClassifier(n_estimators= 500,max_features = 95,min_samples_leaf =1, random_state=10)\n",
    "rf2.fit(features,output_class)\n",
    "train_predictions = rf2.predict(features)\n",
    "print(\"Train Accuracy\")\n",
    "(train_predictions==output_class).value_counts()/output_class.shape[0]\n"
   ]
  },
  {
   "cell_type": "code",
   "execution_count": 197,
   "metadata": {},
   "outputs": [
    {
     "data": {
      "text/plain": [
       "array([    0,  1016,  3436,  1220, 18184], dtype=int64)"
      ]
     },
     "execution_count": 197,
     "metadata": {},
     "output_type": "execute_result"
    }
   ],
   "source": [
    "# TEst Prediction \n",
    "\n",
    "test_predictions = rf2.predict(inp_test_data)\n",
    "np.bincount(test_predictions)"
   ]
  },
  {
   "cell_type": "code",
   "execution_count": 198,
   "metadata": {},
   "outputs": [
    {
     "data": {
      "text/plain": [
       "<matplotlib.axes._subplots.AxesSubplot at 0x200f1b6ebc8>"
      ]
     },
     "execution_count": 198,
     "metadata": {},
     "output_type": "execute_result"
    },
    {
     "data": {
      "image/png": "[encoded data removed]",
      "text/plain": [
       "<Figure size 432x288 with 1 Axes>"
      ]
     },
     "metadata": {
      "needs_background": "light"
     },
     "output_type": "display_data"
    }
   ],
   "source": [
    "# Plot\n",
    "\n",
    "sns.countplot(test_predictions)"
   ]
  },
  {
   "cell_type": "markdown",
   "metadata": {},
   "source": [
    "# ENDDDD!!!"
   ]
  },
  {
   "cell_type": "code",
   "execution_count": null,
   "metadata": {},
   "outputs": [],
   "source": []
  }
 ],
 "metadata": {
  "kernelspec": {
   "display_name": "Python 3",
   "language": "python",
   "name": "python3"
  },
  "language_info": {
   "codemirror_mode": {
    "name": "ipython",
    "version": 3
   },
   "file_extension": ".py",
   "mimetype": "text/x-python",
   "name": "python",
   "nbconvert_exporter": "python",
   "pygments_lexer": "ipython3",
   "version": "3.7.4"
  }
 },
 "nbformat": 4,
 "nbformat_minor": 2
}
